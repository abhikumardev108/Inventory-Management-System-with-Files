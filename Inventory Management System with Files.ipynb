{
 "cells": [
  {
   "cell_type": "code",
   "execution_count": 1,
   "id": "af9ac2fb-405b-42ce-adfd-e283cb8e3749",
   "metadata": {},
   "outputs": [],
   "source": [
    "fd = open('Inventory.txt','w')\n",
    "fd.close()"
   ]
  },
  {
   "cell_type": "markdown",
   "id": "885e9852-4ba0-4145-9e46-241b4e223072",
   "metadata": {},
   "source": [
    "## Product Details\n",
    "1. Product ID\n",
    "2. Name of Product\n",
    "3. Price of Product\n",
    "4. Quantity\n"
   ]
  },
  {
   "cell_type": "code",
   "execution_count": 9,
   "id": "b827d481-2be4-4564-b093-4aa753812832",
   "metadata": {},
   "outputs": [],
   "source": [
    "# Reading the Inventory\n",
    "\n",
    "fd = open('Inventory.txt','r')\n",
    "products = fd.read().split('\\n')\n",
    "fd.close()"
   ]
  },
  {
   "cell_type": "code",
   "execution_count": 7,
   "id": "e87943fb-fb97-4208-8bfd-7bfc24b6cd5a",
   "metadata": {},
   "outputs": [
    {
     "data": {
      "text/plain": [
       "['1,5 Star,5,100', '2,Milky Bar,5,120', '3,Cake,300,12', '4,Candy,5,0']"
      ]
     },
     "execution_count": 7,
     "metadata": {},
     "output_type": "execute_result"
    }
   ],
   "source": [
    "# Printing all the products in a row form \n",
    "products"
   ]
  },
  {
   "cell_type": "code",
   "execution_count": 261,
   "id": "9e16d71f-406c-4257-84a9-f4b61cf9cf9f",
   "metadata": {},
   "outputs": [
    {
     "name": "stdout",
     "output_type": "stream",
     "text": [
      "1,5 Star,5,75\n",
      "2,Milky Bar,5,70\n",
      "3,Cake,300,8\n",
      "4,Candy,5,90\n"
     ]
    }
   ],
   "source": [
    "# Printing all the products in a normal form as we have entered in our projects.\n",
    "for i in products :\n",
    "    print(i)"
   ]
  },
  {
   "cell_type": "code",
   "execution_count": 10,
   "id": "2a7b4745-73a4-4c00-b71e-5e1ad5205c3c",
   "metadata": {},
   "outputs": [
    {
     "name": "stdin",
     "output_type": "stream",
     "text": [
      "Enter your name        :  shubham\n",
      "Enter your phone_no    :  98765432\n",
      "Enter your Email_id    :  shu@gmail.com\n",
      "Enter product ID       :  3\n",
      "Enter product Quantity :  5\n"
     ]
    },
    {
     "name": "stdout",
     "output_type": "stream",
     "text": [
      "-----------------------------------------\n",
      "Name of Product      :  Cake\n",
      "price                :  300\n",
      "Quantity             :  5\n",
      "-----------------------------------------\n",
      "Billing Amount       :  Rs. 1500\n",
      "-----------------------------------------\n",
      "Inventory Updated...\n"
     ]
    }
   ],
   "source": [
    "# for tracking the time of transaction.\n",
    "import time\n",
    "\n",
    "# Taking user input \n",
    "ui_username = input(\"Enter your name        : \")\n",
    "ui_phone    = input(\"Enter your phone_no    : \")\n",
    "ui_mail     = input(\"Enter your Email_id    : \")\n",
    "ui_prod_id  = input(\"Enter product ID       : \")\n",
    "ui_prod_qn  = input(\"Enter product Quantity : \")\n",
    "\n",
    "updated_product_lst = []\n",
    "\n",
    "# Going through each product details\n",
    "for product in products :\n",
    "    prod_details = product.split(',')\n",
    "\n",
    "    # checking if products exists or not.\n",
    "    if (prod_details[0] == ui_prod_id) :\n",
    "        \n",
    "        # If we are having enough quantity to meet the user requirements.\n",
    "        if(int(ui_prod_qn) <= int(prod_details[3])) : \n",
    "            \n",
    "            print(\"-----------------------------------------\")\n",
    "            print(\"Name of Product      : \", prod_details[1])\n",
    "            print(\"price                : \", prod_details[2])\n",
    "            print(\"Quantity             : \", ui_prod_qn)\n",
    "            print(\"-----------------------------------------\")\n",
    "            print(\"Billing Amount       : \",\"Rs.\", int(ui_prod_qn) * int(prod_details[2]))\n",
    "            print(\"-----------------------------------------\")\n",
    "\n",
    "            # Updating Inventory list.\n",
    "            prod_details[3] = str(int(prod_details[3]) - int(ui_prod_qn))\n",
    "\n",
    "            # Generating sales in Sales.txt file. \n",
    "            fd = open('Sales.txt','a')\n",
    "            sales_detail = \"Name : \" + ui_username +\", \"+ \"Phone : \" + ui_phone +\", \"+ \"Email : \" + ui_mail +\", \"+ \"Product name : \" + prod_details[1]+\", \"+ \"ID : \" + ui_prod_id +\", \"+ \"Quantity : \" + ui_prod_qn +\", \"+ \"Price : \" + \"Rs.\"+ str(int(ui_prod_qn) * int(prod_details[2])) +\", \"+ \"Time : \" + time.ctime() +\"\\n\"\n",
    "            fd.write(sales_detail)\n",
    "            fd.close()\n",
    "\n",
    "        else :\n",
    "            # If we are not having enough quantity to meet the user requirements.\n",
    "            \n",
    "            print(\"-----------------------------------------\")\n",
    "            print(\"Sorry , we are not having enough quantity.\")\n",
    "            print(\"We are only having\",prod_details[3],\"quantity.\")\n",
    "            print(\"Would you like to purchase it?\")\n",
    "\n",
    "            ch = input(\"Press Y/N :\")\n",
    "            if(ch == 'Y' or ch == 'y') :\n",
    "                # Check if user want to purchase the remaining quantity or not.\n",
    "                print(\"-----------------------------------------\")\n",
    "                print(\"Name of Product        : \", prod_details[1])\n",
    "                print(\"price                  : \", prod_details[2])\n",
    "                print(\"Quantity               : \", prod_details[3])\n",
    "                print(\"-----------------------------------------\")\n",
    "                print(\"Billing Amount         : \",\"Rs.\", int(prod_details[3]) * int(prod_details[2]))\n",
    "                print(\"-----------------------------------------\")\n",
    "                \n",
    "                \n",
    "                # Generating sales in Sales.txt file. \n",
    "                fd = open('Sales.txt','a')\n",
    "                sales_detail = \"Name : \" + ui_username +\", \"+ \"Phone : \" + ui_phone +\", \"+ \"Email : \" + ui_mail +\", \"+ \"Product name : \" + prod_details[1]+\", \"+ \"ID : \" + ui_prod_id +\", \"+ \"Quantity : \" + prod_details[3] +\", \"+ \"Price : \" + \"Rs.\"+ str(int(prod_details[3]) * int(prod_details[2])) +\", \"+ \"Time : \" + time.ctime() +\"\\n\"\n",
    "                fd.write(sales_detail)\n",
    "                fd.close()\n",
    "\n",
    "                # makes the Inventory quantity of that product is 0.\n",
    "                prod_details[3] = '0'\n",
    "\n",
    "            else :\n",
    "                print(\"-----------------------------------------\") \n",
    "                print(\"Sorry, we can't go further with you !. Visit again !. Thanks...\")\n",
    "                \n",
    "    # Updating the inventory list. \n",
    "    updated_product_lst.append(prod_details)\n",
    "\n",
    "lst = []\n",
    "\n",
    "# Updating the inventory String. \n",
    "for i in updated_product_lst :\n",
    "    prod = i[0] +\",\"+ i[1] +\",\"+ i[2] +\",\"+ i[3] + \"\\n\"\n",
    "    lst.append(prod)\n",
    "    \n",
    "# Removing the \"\\n\" from the list\n",
    "lst[-1] = lst[-1][:-1]\n",
    "\n",
    "# Write those details into the inventory file . \n",
    "fd = open('Inventory.txt','w')\n",
    "\n",
    "for i in lst :\n",
    "    fd.write(i)\n",
    "    \n",
    "fd.close()\n",
    "print(\"Inventory Updated...\")"
   ]
  },
  {
   "cell_type": "code",
   "execution_count": 263,
   "id": "db23333e-4750-487e-9907-7e9c1a78074e",
   "metadata": {},
   "outputs": [
    {
     "name": "stdout",
     "output_type": "stream",
     "text": [
      "1,5 Star,5,75\n",
      "2,Milky Bar,5,70\n",
      "3,Cake,300,0\n",
      "4,Candy,5,90\n"
     ]
    }
   ],
   "source": [
    "# Printing the details of the product after transaction completes. \n",
    "for i in updated_product_lst :\n",
    "    prod = i[0] +\",\"+ i[1] +\",\"+ i[2] +\",\"+ i[3]\n",
    "    print(prod)"
   ]
  },
  {
   "cell_type": "code",
   "execution_count": null,
   "id": "bfd3907a-a2b6-44b8-be01-c58af8208dd7",
   "metadata": {},
   "outputs": [],
   "source": []
  }
 ],
 "metadata": {
  "kernelspec": {
   "display_name": "Python 3 (ipykernel)",
   "language": "python",
   "name": "python3"
  },
  "language_info": {
   "codemirror_mode": {
    "name": "ipython",
    "version": 3
   },
   "file_extension": ".py",
   "mimetype": "text/x-python",
   "name": "python",
   "nbconvert_exporter": "python",
   "pygments_lexer": "ipython3",
   "version": "3.12.4"
  }
 },
 "nbformat": 4,
 "nbformat_minor": 5
}
